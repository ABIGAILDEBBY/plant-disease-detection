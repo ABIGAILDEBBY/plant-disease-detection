{
 "cells": [
  {
   "cell_type": "code",
   "execution_count": null,
   "id": "617ea55d",
   "metadata": {},
   "outputs": [],
   "source": [
    "import os\n",
    "\n",
    "\n",
    "def total_files(folder_path):\n",
    "    num_files = len(\n",
    "        [\n",
    "            f\n",
    "            for f in os.listdir(folder_path)\n",
    "            if os.path.isfile(os.path.join(folder_path, f))\n",
    "        ]\n",
    "    )\n",
    "    return num_files"
   ]
  },
  {
   "cell_type": "code",
   "execution_count": null,
   "id": "80790ba3",
   "metadata": {},
   "outputs": [],
   "source": [
    "train_files_healthy = \"Dataset/Train/Train/Healthy\"\n",
    "train_files_powdery = \"Dataset/Train/Train/Powdery\"\n",
    "train_files_rust = \"Dataset/Train/Train/Rust\"\n",
    "\n",
    "test_files_healthy = \"Dataset/Test/Test/Healthy\"\n",
    "test_files_powdery = \"Dataset/Test/Test/Powdery\"\n",
    "test_files_rust = \"Dataset/Test/Test/Rust\"\n",
    "\n",
    "valid_files_healthy = \"Dataset/Validation/Validation/Healthy\"\n",
    "valid_files_powdery = \"Dataset/Validation/Validation/Powdery\"\n",
    "valid_files_rust = \"Dataset/Validation/Validation/Rust\"\n",
    "\n",
    "print(\"Number of healthy leaf images in training set\", total_files(train_files_healthy))\n",
    "print(\"Number of powder leaf images in training set\", total_files(train_files_powdery))\n",
    "print(\"Number of rusty leaf images in training set\", total_files(train_files_rust))\n",
    "\n",
    "print(\"========================================================\")\n",
    "\n",
    "print(\"Number of healthy leaf images in test set\", total_files(test_files_healthy))\n",
    "print(\"Number of powder leaf images in test set\", total_files(test_files_powdery))\n",
    "print(\"Number of rusty leaf images in test set\", total_files(test_files_rust))\n",
    "\n",
    "print(\"========================================================\")\n",
    "\n",
    "print(\n",
    "    \"Number of healthy leaf images in validation set\", total_files(valid_files_healthy)\n",
    ")\n",
    "print(\n",
    "    \"Number of powder leaf images in validation set\", total_files(valid_files_powdery)\n",
    ")\n",
    "print(\"Number of rusty leaf images in validation set\", total_files(valid_files_rust))"
   ]
  },
  {
   "cell_type": "code",
   "execution_count": null,
   "id": "2831ecc1",
   "metadata": {},
   "outputs": [],
   "source": [
    "from PIL import Image\n",
    "import IPython.display as display\n",
    "\n",
    "image_path = \"Dataset/Train/Train/Healthy/8ce77048e12f3dd4.jpg\"\n",
    "\n",
    "with open(image_path, \"rb\") as f:\n",
    "    display.display(display.Image(data=f.read(), width=500))"
   ]
  },
  {
   "cell_type": "code",
   "execution_count": null,
   "id": "d0a4de5e",
   "metadata": {},
   "outputs": [],
   "source": [
    "image_path = \"Dataset/Train/Train/Rust/80f09587dfc7988e.jpg\"\n",
    "\n",
    "with open(image_path, \"rb\") as f:\n",
    "    display.display(display.Image(data=f.read(), width=500))"
   ]
  },
  {
   "cell_type": "code",
   "execution_count": null,
   "id": "5bef412d",
   "metadata": {},
   "outputs": [],
   "source": [
    "from tensorflow.keras.preprocessing.image import ImageDataGenerator\n",
    "\n",
    "train_datagen = ImageDataGenerator(\n",
    "    rescale=1.0 / 255, shear_range=0.2, zoom_range=0.2, horizontal_flip=True\n",
    ")\n",
    "test_datagen = ImageDataGenerator(rescale=1.0 / 255)"
   ]
  },
  {
   "cell_type": "code",
   "execution_count": null,
   "id": "bba0cb00",
   "metadata": {},
   "outputs": [],
   "source": [
    "train_generator = train_datagen.flow_from_directory(\n",
    "    \"Dataset/Train/Train\",\n",
    "    target_size=(225, 225),\n",
    "    batch_size=32,\n",
    "    class_mode=\"categorical\",\n",
    ")\n",
    "\n",
    "validation_generator = test_datagen.flow_from_directory(\n",
    "    \"Dataset/Validation/Validation\",\n",
    "    target_size=(225, 225),\n",
    "    batch_size=32,\n",
    "    class_mode=\"categorical\",\n",
    ")"
   ]
  },
  {
   "cell_type": "code",
   "execution_count": null,
   "id": "e5b98879",
   "metadata": {},
   "outputs": [],
   "source": [
    "from keras.models import Sequential\n",
    "from keras.layers import Conv2D, MaxPooling2D, Flatten, Dense\n",
    "\n",
    "\n",
    "model = Sequential()\n",
    "model.add(Conv2D(32, (3, 3), input_shape=(225, 225, 3), activation=\"relu\"))\n",
    "model.add(MaxPooling2D(pool_size=(2, 2)))\n",
    "model.add(Conv2D(64, (3, 3), activation=\"relu\"))\n",
    "model.add(MaxPooling2D(pool_size=(2, 2)))\n",
    "model.add(Flatten())\n",
    "model.add(Dense(64, activation=\"relu\"))\n",
    "model.add(Dense(3, activation=\"softmax\"))"
   ]
  },
  {
   "cell_type": "code",
   "execution_count": null,
   "id": "f93ab877",
   "metadata": {},
   "outputs": [],
   "source": [
    "model.compile(optimizer=\"adam\", loss=\"categorical_crossentropy\", metrics=[\"accuracy\"])"
   ]
  },
  {
   "cell_type": "code",
   "execution_count": null,
   "id": "8fb05869",
   "metadata": {},
   "outputs": [],
   "source": [
    "history = model.fit(\n",
    "    train_generator,\n",
    "    batch_size=16,\n",
    "    epochs=5,\n",
    "    validation_data=validation_generator,\n",
    "    validation_batch_size=16,\n",
    ")"
   ]
  },
  {
   "cell_type": "code",
   "execution_count": null,
   "id": "85051a2d",
   "metadata": {},
   "outputs": [],
   "source": [
    "from matplotlib import pyplot as plt\n",
    "from matplotlib.pyplot import figure\n",
    "\n",
    "import seaborn as sns\n",
    "\n",
    "sns.set_theme()\n",
    "sns.set_context(\"poster\")\n",
    "\n",
    "figure(figsize=(25, 25), dpi=100)\n",
    "\n",
    "plt.plot(history.history[\"accuracy\"])\n",
    "plt.plot(history.history[\"val_accuracy\"])\n",
    "plt.title(\"model accuracy\")\n",
    "plt.ylabel(\"accuracy\")\n",
    "plt.xlabel(\"epoch\")\n",
    "plt.legend([\"train\", \"val\"], loc=\"upper left\")\n",
    "plt.show()"
   ]
  },
  {
   "cell_type": "code",
   "execution_count": null,
   "id": "fad56b16",
   "metadata": {},
   "outputs": [],
   "source": [
    "model.save(\"models/model.h5\")"
   ]
  },
  {
   "cell_type": "code",
   "execution_count": null,
   "id": "193bd068",
   "metadata": {},
   "outputs": [],
   "source": [
    "from tensorflow.keras.preprocessing.image import load_img, img_to_array\n",
    "import numpy as np\n",
    "\n",
    "\n",
    "def preprocess_image(image_path, target_size=(225, 225)):\n",
    "    img = load_img(image_path, target_size=target_size)\n",
    "    x = img_to_array(img)\n",
    "    x = x.astype(\"float32\") / 255.0\n",
    "    x = np.expand_dims(x, axis=0)\n",
    "    return x\n",
    "\n",
    "\n",
    "x = preprocess_image(\"Dataset/Test/Test/Rust/82f49a4a7b9585f1.jpg\")"
   ]
  },
  {
   "cell_type": "code",
   "execution_count": null,
   "id": "c507c56c",
   "metadata": {},
   "outputs": [],
   "source": [
    "predictions = model.predict(x)\n",
    "predictions[0]"
   ]
  },
  {
   "cell_type": "code",
   "execution_count": null,
   "id": "3c71a88b",
   "metadata": {},
   "outputs": [],
   "source": [
    "labels = train_generator.class_indices\n",
    "labels = {v: k for k, v in labels.items()}\n",
    "labels"
   ]
  },
  {
   "cell_type": "code",
   "execution_count": null,
   "id": "db9430db",
   "metadata": {},
   "outputs": [],
   "source": [
    "predicted_label = labels[np.argmax(predictions)]\n",
    "print(predicted_label)"
   ]
  }
 ],
 "metadata": {
  "kernelspec": {
   "display_name": "Python 3",
   "language": "python",
   "name": "python3"
  },
  "language_info": {
   "codemirror_mode": {
    "name": "ipython",
    "version": 3
   },
   "file_extension": ".py",
   "mimetype": "text/x-python",
   "name": "python",
   "nbconvert_exporter": "python",
   "pygments_lexer": "ipython3",
   "version": "3.9.11"
  }
 },
 "nbformat": 4,
 "nbformat_minor": 5
}
